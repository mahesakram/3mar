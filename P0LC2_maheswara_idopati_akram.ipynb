{
  "nbformat": 4,
  "nbformat_minor": 0,
  "metadata": {
    "colab": {
      "provenance": []
    },
    "kernelspec": {
      "name": "python3",
      "display_name": "Python 3"
    },
    "language_info": {
      "name": "python"
    }
  },
  "cells": [
    {
      "cell_type": "markdown",
      "source": [
        "=========================================\n",
        "\n",
        "Live Code 2\n",
        "\n",
        "Nama  : Maheswara Idopati Akram\n",
        "Batch : RMT-41\n",
        "\n",
        "Program ini untuk mengakses dan mengatur data dalam database beverage sales\n",
        "========================================="
      ],
      "metadata": {
        "id": "9E8GTadeztIz"
      }
    },
    {
      "cell_type": "markdown",
      "source": [
        "section 1\n",
        "1. Sebutkan kota yang masuk ke dalam wilayah distribusi penjualan perusahaan ?"
      ],
      "metadata": {
        "id": "bxuK5qjuRTuH"
      }
    },
    {
      "cell_type": "code",
      "execution_count": null,
      "metadata": {
        "colab": {
          "base_uri": "https://localhost:8080/"
        },
        "id": "yj2NO4t9zfjF",
        "outputId": "f33daf13-2ccc-44f2-8b3a-181c24b49811"
      },
      "outputs": [
        {
          "output_type": "stream",
          "name": "stdout",
          "text": [
            "Authenticated\n"
          ]
        }
      ],
      "source": [
        "from google.colab import auth\n",
        "from google.cloud import bigquery\n",
        "\n",
        "print('Authenticated')\n",
        "\n",
        "project_id_akun = \"ftds-41\" # Gunakan GCP Project-ID Anda\n",
        "client = bigquery.Client(project=project_id_akun)"
      ]
    },
    {
      "cell_type": "code",
      "source": [
        "df = client.query('''\n",
        "SELECT * FROM `ftds-hacktiv8-project.phase0_ftds_041_rmt.beverage_sales`\n",
        "''').to_dataframe()\n"
      ],
      "metadata": {
        "id": "xCe4Ifje2mY2"
      },
      "execution_count": null,
      "outputs": []
    },
    {
      "cell_type": "code",
      "source": [
        "df1 = client.query('''\n",
        "SELECT store_city\n",
        "FROM `ftds-hacktiv8-project.phase0_ftds_041_rmt.beverage_sales`\n",
        "GROUP BY store_city\n",
        "''').to_dataframe()\n",
        "print(df1)"
      ],
      "metadata": {
        "colab": {
          "base_uri": "https://localhost:8080/"
        },
        "id": "JUDat98M5TWy",
        "outputId": "4b3a639b-75af-4a05-9fcf-658e2d29b09e"
      },
      "execution_count": null,
      "outputs": [
        {
          "output_type": "stream",
          "name": "stdout",
          "text": [
            "        store_city\n",
            "0      CEDAR FALLS\n",
            "1       MASON CITY\n",
            "2          CLINTON\n",
            "3         CLARINDA\n",
            "4        MUSCATINE\n",
            "5  WEST DES MOINES\n"
          ]
        }
      ]
    },
    {
      "cell_type": "markdown",
      "source": [
        "1.  pertimbangan: hanya perlu menggroup kota dimana store berada\n",
        "2.  insight: data kota yang terdistribusikan produk terlihat di tabel\n",
        "3. kesimpulan: ada lima kota dimana produk di distribusikan dan nama2nya bisa dilihat di tabel\n",
        "\n"
      ],
      "metadata": {
        "id": "eSxR_tvfSJBl"
      }
    },
    {
      "cell_type": "markdown",
      "source": [
        "2.Berapa rentang harga minimum dan maksimum dari unit minumam yang dijual ?"
      ],
      "metadata": {
        "id": "FdcBD3q6Rcuj"
      }
    },
    {
      "cell_type": "code",
      "source": [
        "df2 = client.query('''\n",
        "SELECT product_name, max(unit_retail_price) - min(unit_retail_price) as unit_price_range\n",
        "FROM `ftds-hacktiv8-project.phase0_ftds_041_rmt.beverage_sales`\n",
        "group by product_name\n",
        "''').to_dataframe()\n",
        "print(df2)"
      ],
      "metadata": {
        "colab": {
          "base_uri": "https://localhost:8080/"
        },
        "id": "ljyhDfdbCXdz",
        "outputId": "df505518-0259-4f9b-be5e-a2c10be69ce9"
      },
      "execution_count": null,
      "outputs": [
        {
          "output_type": "stream",
          "name": "stdout",
          "text": [
            "             product_name  unit_price_range\n",
            "0         MorningMist Dew              0.00\n",
            "1      MoonlitMocha Twist             19.01\n",
            "2    FruitFusion Quencher              7.12\n",
            "3         VitaWave Splash             15.04\n",
            "4         SpicedApple Hug              1.73\n",
            "5     OasisGlow Refresher              1.88\n",
            "6    Sparkling Bliss Brew              8.10\n",
            "7        BerryBlitz Chill             12.85\n",
            "8       CocoCrave Delight             17.11\n",
            "9        ZenZen Tea Blend              8.35\n",
            "10     SummerSip Tropical              8.40\n",
            "11     SootheSip Serenity              1.06\n",
            "12     CitrusBurst Breeze             52.92\n",
            "13      PeachyKeen Revive              2.69\n",
            "14       VelvetChai Charm              3.23\n",
            "15    VelvetMist Infusion             17.05\n",
            "16    CaramelCrunch Craze              3.92\n",
            "17        ChocoMint Bliss             25.84\n",
            "18       BerryBloom Oasis             11.57\n",
            "19   RadiantRoot Infusion             43.27\n",
            "20     FrostyMango Fusion              3.10\n",
            "21     MorningMist Wakeup              2.84\n",
            "22     AquaFrost Quencher              4.82\n",
            "23    CreamyCaramel Cloud             31.46\n",
            "24        PureElixir Zest              4.18\n",
            "25    EnergizeFusion Fuel              6.38\n",
            "26      BerryBurst Bubbly              4.19\n",
            "27      HerbalHarmony Sip              4.45\n",
            "28     FrostedCocoa Savor              5.40\n",
            "29        AquaBerry Burst              7.42\n",
            "30      BerryBloom Splash              0.00\n",
            "31     PassionPunch Spark              1.49\n",
            "32      PineapplePop Fizz              7.09\n",
            "33     RadiantRoot Revive             15.12\n",
            "34    BlueberryBliss Brew              7.70\n",
            "35     SunsetCitrus Drift              2.61\n",
            "36        Energize Elixir              1.02\n",
            "37          CalmCocoa Sip             13.41\n",
            "38       MintyMocha Chill             10.89\n",
            "39      GoldenGinger Brew              0.96\n",
            "40  TropicalTingle Quench              0.27\n",
            "41   PomegranatePop Spark              0.00\n",
            "42       SunnyCitrus Zing              0.00\n"
          ]
        }
      ]
    },
    {
      "cell_type": "markdown",
      "source": [
        "1.  pertimbangan: harus menemukan nilai maximum dan minimum unit price setiap produk dan menggroup mereka agar tidak dikeluarkan semua 6000+ transaksi tapi hanya 42 produk saja\n",
        "2.  insight: range harga per unit ter lihat di tabel dan ada beberapa produk dengan range 0 atau harga per unit sama untuk semua jenis kemasan dan paket\n",
        "3. kesimpulan: ada banyak perbedaan range harga tergantung dengan jenis paket atau kemasan"
      ],
      "metadata": {
        "id": "wa6OEijzS6IK"
      }
    },
    {
      "cell_type": "markdown",
      "source": [
        "3. Bandingkan total unit yang terjual dan jumlah transaksi dari masing-masing kota pada tahun 2022 ?"
      ],
      "metadata": {
        "id": "HT7AzmxQRhYU"
      }
    },
    {
      "cell_type": "code",
      "source": [
        "df3 = client.query('''\n",
        "SELECT store_city, COUNT(*)*SUM(unit_sold) as total_sold, COUNT(*) as total_transaction\n",
        "FROM `ftds-hacktiv8-project.phase0_ftds_041_rmt.beverage_sales`\n",
        "group by store_city\n",
        "''').to_dataframe()\n",
        "print(df3)"
      ],
      "metadata": {
        "colab": {
          "base_uri": "https://localhost:8080/"
        },
        "id": "wv0FTKzQN7Uf",
        "outputId": "4bb187af-5c2a-4ed5-cc60-bc9af0173537"
      },
      "execution_count": null,
      "outputs": [
        {
          "output_type": "stream",
          "name": "stdout",
          "text": [
            "        store_city  total_sold  total_transaction\n",
            "0      CEDAR FALLS    48764745               2129\n",
            "1       MASON CITY      787932                258\n",
            "2          CLINTON    97536060               2292\n",
            "3         CLARINDA     8564020                740\n",
            "4        MUSCATINE     1917108                366\n",
            "5  WEST DES MOINES     8778257                229\n"
          ]
        }
      ]
    },
    {
      "cell_type": "markdown",
      "source": [
        "1.  pertimbangan: menghitung jumlah nama kota keluar dikalikan dengan sum dari unit terjual dari setiap kota\n",
        "2.  insight: terlihat jumlah unit terjual di setiap kota\n",
        "3. kesimpulan: clinton tempat pembelian terbanyak dan mason city tersedikit"
      ],
      "metadata": {
        "id": "xzwGnBloT5sF"
      }
    },
    {
      "cell_type": "markdown",
      "source": [
        "4. Produk apa yang paling banyak diminati pada tahun 2022 ?"
      ],
      "metadata": {
        "id": "4PyQQW8YRjnn"
      }
    },
    {
      "cell_type": "code",
      "source": [
        "df4 = client.query('''\n",
        "SELECT COUNT(*)*SUM(unit_sold) as total_sold\n",
        "FROM `ftds-hacktiv8-project.phase0_ftds_041_rmt.beverage_sales`\n",
        "where date >= \"2022-01-01\" AND date < \"2023-01-01\" AND\n",
        "\n",
        "\n",
        "''').to_dataframe()\n",
        "print(df4)"
      ],
      "metadata": {
        "colab": {
          "base_uri": "https://localhost:8080/"
        },
        "id": "FXDpYshxPB_6",
        "outputId": "1a96a7c8-7d5f-4912-85b7-2b30ed82680b"
      },
      "execution_count": null,
      "outputs": [
        {
          "output_type": "stream",
          "name": "stdout",
          "text": [
            "   total_sold\n",
            "0    41081220\n"
          ]
        }
      ]
    },
    {
      "cell_type": "markdown",
      "source": [
        "1.  pertimbangan: menghitung jumlah nama kota keluar dikalikan dengan sum dari unit terjual dari setiap kota\n",
        "2.  insight: terlihat jumlah produk yang paling banyak dibeli\n",
        "3. kesimpulan: produk yang paling banyak dibeli berjumlah 41081220"
      ],
      "metadata": {
        "id": "0fijbyBBUQa1"
      }
    },
    {
      "cell_type": "markdown",
      "source": [
        "Section 2 - Pandas\n",
        "Jawablah masing-masing pertanyaan dibawah ini dengan menggunakan Pandas.\n",
        "\n",
        "1. Buatlah sebuah column baru dengan nama season. Column ini berisikan label yang menunjukkan keterangan musim berdasarkan bulan dengan ketentuan sebagai berikut :"
      ],
      "metadata": {
        "id": "h-e6G3KZRurv"
      }
    },
    {
      "cell_type": "code",
      "source": [
        "import pandas as pd"
      ],
      "metadata": {
        "id": "4kQ8zBvKRsYW"
      },
      "execution_count": null,
      "outputs": []
    }
  ]
}