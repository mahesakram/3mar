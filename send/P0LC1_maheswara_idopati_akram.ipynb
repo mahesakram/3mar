{
 "cells": [
  {
   "cell_type": "markdown",
   "metadata": {},
   "source": [
    "=================================================\n",
    "Live Code 1\n",
    "\n",
    "Nama  : Maheswara Idopati Akram\n",
    "Batch : RMT-41\n",
    "\n",
    "Program ini dibuat untuk menghitung total penghasilan karyawan berdasarkan jabatan dan jam kerja karyawan \n",
    "=================================================\n"
   ]
  },
  {
   "cell_type": "markdown",
   "metadata": {},
   "source": [
    "Case : Employee Payroll System\n",
    "1. Buatlah Python Function bernama hitung_penghasilan untuk menghitung besaran gaji yang diterima pegawai sesuai dengan jabatannya dan jam kerjanya.\n",
    "\n",
    "gaji tetap:\n",
    "manager = 10 M/bulan\n",
    "staff = 5 M/bulan\n",
    "kasir = 4 M/bulan\n",
    "\n",
    "gaji lembur:\n",
    "20 k/jam untuk > 40 jam/minggu\n",
    "\n",
    "Pastikan bahwa Python Function yang dibuat menggunakan variable-length argument (*args atau **kwargs).\n",
    "\n",
    "-Buatlah Python Dictionary untuk menyimpan informasi gaji berdasarkan jabatannya.\n",
    "-Periksa apakah jam kerja seorang pegawai melebihi 40 jam per minggu.\n",
    "-Kalkulasikan besaran gaji yang didapatkan berdasarkan jabatannya dan jam kerjanya.\n",
    "\n"
   ]
  },
  {
   "cell_type": "code",
   "execution_count": null,
   "metadata": {},
   "outputs": [
    {
     "name": "stdout",
     "output_type": "stream",
     "text": [
      "8\n",
      "['aida', 'manager', 'sia', 'staff', 'hai', 'staff', 'ilda', 'kasir']\n",
      "aida\n",
      "10000000\n",
      "{}\n",
      "sia\n",
      "10000000\n",
      "{}\n",
      "hai\n",
      "10000000\n",
      "{}\n",
      "ilda\n",
      "10000000\n",
      "{}\n",
      "{}\n"
     ]
    }
   ],
   "source": [
    "dict = {\n",
    "    \"manager\": 10000000,\n",
    "    \"staff\": 5000000,\n",
    "    \"kasir\": 4000000\n",
    "}\n",
    "jam_manager=int(input(\"input jam kerja manager per minggu: \"))\n",
    "jam_staff=int(input(\"input jam kerja staff per minggu: \"))\n",
    "jam_kasir=int(input(\"input jam kerja kasir per minggu: \"))\n",
    "\n",
    "if jam_manager>40:\n",
    "    gaji_manager=dict[\"manager\"]+((jam_manager-40)*20000)\n",
    "else:\n",
    "    gaji_manager=dict[\"manager\"]\n",
    "print(gaji_manager)\n",
    "\n",
    "if jam_staff>40:\n",
    "    gaji_staff=dict[\"staff\"]+((jam_staff-40)*20000)\n",
    "else:\n",
    "    gaji_staff=dict[\"staff\"]\n",
    "print(gaji_staff)\n",
    "\n",
    "if jam_kasir>40:\n",
    "    gaji_kasir=dict[\"kasir\"]+((jam_kasir-40)*20000)\n",
    "else:\n",
    "    gaji_kasir=dict[\"kasir\"]\n",
    "print(gaji_kasir)\n",
    "\n",
    "total_gaji=gaji_manager+gaji_staff+gaji_kasir\n",
    "print(\"Rp. \", total_gaji, \"/Bulan\")"
   ]
  },
  {
   "cell_type": "code",
   "execution_count": null,
   "metadata": {},
   "outputs": [],
   "source": []
  }
 ],
 "metadata": {
  "kernelspec": {
   "display_name": "Python 3",
   "language": "python",
   "name": "python3"
  },
  "language_info": {
   "codemirror_mode": {
    "name": "ipython",
    "version": 3
   },
   "file_extension": ".py",
   "mimetype": "text/x-python",
   "name": "python",
   "nbconvert_exporter": "python",
   "pygments_lexer": "ipython3",
   "version": "3.12.4"
  }
 },
 "nbformat": 4,
 "nbformat_minor": 2
}
